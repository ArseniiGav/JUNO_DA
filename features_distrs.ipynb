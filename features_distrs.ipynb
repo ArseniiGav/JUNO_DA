{
 "cells": [
  {
   "cell_type": "code",
   "execution_count": null,
   "id": "5dd94e4a",
   "metadata": {},
   "outputs": [],
   "source": [
    "from plotly.offline import init_notebook_mode, iplot\n",
    "\n",
    "import plotly.graph_objs as go\n",
    "from plotly.subplots import make_subplots\n",
    "import plotly.io as pio\n",
    "pio.templates.default = 'plotly_white'\n",
    "\n",
    "import numpy as np\n",
    "import pandas as pd\n",
    "import pickle"
   ]
  },
  {
   "cell_type": "code",
   "execution_count": null,
   "id": "89b1387f",
   "metadata": {},
   "outputs": [],
   "source": [
    "path='/mnt/cephfs/ml_data/mc_2021/'\n",
    "\n",
    "data_target = pd.read_csv(f'{path}processed_data/ProcessedTrainRealNoised/ProcessedTrain.csv.gz')\n",
    "data_target = data_target[data_target['edepR'] < 17.2]\n",
    "\n",
    "data_source = pd.read_csv(f'{path}processed_data/ProcessedTrainReal/ProcessedTrain_1M.csv.gz')\n",
    "data_source = data_source[data_source['edepR'] < 17.2]"
   ]
  },
  {
   "cell_type": "code",
   "execution_count": null,
   "id": "5b6221d6",
   "metadata": {},
   "outputs": [],
   "source": [
    "N = int(2e4)"
   ]
  },
  {
   "cell_type": "code",
   "execution_count": null,
   "id": "f1362d37",
   "metadata": {},
   "outputs": [],
   "source": [
    "data_target = data_target.sample(N)\n",
    "data_source = data_source.sample(N)"
   ]
  },
  {
   "cell_type": "code",
   "execution_count": null,
   "id": "55595f1d",
   "metadata": {
    "scrolled": false
   },
   "outputs": [],
   "source": [
    "nrows = 10\n",
    "ncols = 9\n",
    "\n",
    "fig = make_subplots(\n",
    "    rows=nrows, cols=ncols,\n",
    "    subplot_titles = data_source.columns,\n",
    "    horizontal_spacing=0.06\n",
    ")\n",
    "\n",
    "for k in range(1, nrows+1):\n",
    "    for j in range(1, ncols+1):\n",
    "        name_t = \"Target\"\n",
    "        name_s = \"Source\"\n",
    "        if (k-1)*(ncols) + j - 1 == 0:\n",
    "            showlegend=True\n",
    "        else:\n",
    "            showlegend=False\n",
    "        feature_target = data_target.iloc[:, (k-1)*(ncols) + j - 1]\n",
    "        feature_source = data_source.iloc[:, (k-1)*(ncols) + j - 1]\n",
    "        mini = min(feature_target.min(), feature_source.min())\n",
    "        maxi = max(feature_target.max(), feature_source.max())\n",
    "        size = (maxi - mini) / 75\n",
    "        fig.add_trace(\n",
    "            go.Histogram(\n",
    "                x=feature_target,\n",
    "                showlegend=showlegend,\n",
    "                name=name_t,\n",
    "                histnorm='probability',\n",
    "                xbins=dict(\n",
    "                    start=mini,\n",
    "                    end=maxi,\n",
    "                    size=size\n",
    "                ),\n",
    "                marker=dict(\n",
    "                    color='darkred'\n",
    "                ),\n",
    "                opacity=0.6,\n",
    "            ), row=k, col=j\n",
    "        )\n",
    "        fig.add_trace(\n",
    "            go.Histogram(\n",
    "                x=feature_source,\n",
    "                showlegend=showlegend,\n",
    "                name=name_s,\n",
    "                histnorm='probability',\n",
    "                xbins=dict(\n",
    "                    start=mini,\n",
    "                    end=maxi,\n",
    "                    size=size\n",
    "                ),\n",
    "                marker=dict(\n",
    "                    color='darkblue'\n",
    "                ),\n",
    "                opacity=0.6,\n",
    "            ), row=k, col=j\n",
    "        )\n",
    "\n",
    "xaxis = dict(\n",
    "    showline=True,\n",
    "    ticks='outside',\n",
    "    mirror=True,\n",
    "    linecolor='grey',\n",
    "    showgrid=True,\n",
    "    gridcolor='grey',\n",
    "    gridwidth=0.01,\n",
    ")\n",
    "\n",
    "yaxis = dict(\n",
    "    showline=True,\n",
    "    ticks='outside',\n",
    "    mirror=True,\n",
    "    linecolor='grey',\n",
    "    showgrid=True,\n",
    "    gridcolor='grey',\n",
    "    gridwidth=0.01,\n",
    "    zeroline=True,\n",
    "    zerolinecolor='grey',\n",
    "    zerolinewidth=0.01\n",
    ")\n",
    "\n",
    "axis_params = {}\n",
    "for i in range(1, data_target.shape[1]+1):\n",
    "    axis_params['xaxis{}'.format(i)] = xaxis\n",
    "    axis_params['yaxis{}'.format(i)] = yaxis\n",
    "\n",
    "fig.update_layout(\n",
    "    title='Features distributions',\n",
    "    width=3000,\n",
    "    height=2700,\n",
    "    **axis_params,\n",
    "    barmode='overlay',\n",
    "    font = dict(\n",
    "        family=\"Times New Roman\",\n",
    "        size=16,\n",
    "        color='black'\n",
    "    ),\n",
    "    legend = dict(\n",
    "        orientation=\"h\",\n",
    "        yanchor=\"bottom\",\n",
    "        y=1.02,\n",
    "        xanchor=\"right\",\n",
    "        x=1\n",
    "    )\n",
    ")\n",
    "\n",
    "fig.show()\n",
    "# pio.write_image(fig, 'plots/features_distributions_nn.pdf',\n",
    "#                 width=1000, height=900)"
   ]
  },
  {
   "cell_type": "code",
   "execution_count": null,
   "id": "d7be2c14",
   "metadata": {},
   "outputs": [],
   "source": [
    "from xgboost import XGBRegressor\n"
   ]
  },
  {
   "cell_type": "code",
   "execution_count": null,
   "id": "6debe36b",
   "metadata": {},
   "outputs": [],
   "source": [
    "models = []\n",
    "models.append(pickle.load(open(\"/home/arsde/J21_SYSU/models/16_features_max_depth_10/xgb_energy_ideal_opt_16.dat\", \"rb\")))\n",
    "models.append(pickle.load(open(\"/home/arsde/J21_SYSU/models/16_features_max_depth_10/xgb_energy_real_opt_16.dat\", \"rb\")))"
   ]
  },
  {
   "cell_type": "code",
   "execution_count": null,
   "id": "07f50eda",
   "metadata": {},
   "outputs": [],
   "source": [
    "import xgboost as xgb"
   ]
  },
  {
   "cell_type": "code",
   "execution_count": null,
   "id": "c58cdccc",
   "metadata": {},
   "outputs": [],
   "source": [
    "model_xgb_2 = xgb.Booster()\n",
    "model_xgb_2.load_model(\"/home/arsde/J21_SYSU/models/16_features_max_depth_10/xgb_energy_real_opt_16.dat\")\n"
   ]
  },
  {
   "cell_type": "code",
   "execution_count": null,
   "id": "4076f733",
   "metadata": {},
   "outputs": [],
   "source": [
    "model2 = xgb.XGBRegressor()\n",
    "model2.load_model(\"/home/arsde/J21_SYSU/models/16_features_max_depth_10/xgb_energy_real_opt_16.dat\")\n"
   ]
  },
  {
   "cell_type": "code",
   "execution_count": null,
   "id": "1ea04d5b",
   "metadata": {},
   "outputs": [],
   "source": []
  }
 ],
 "metadata": {
  "kernelspec": {
   "display_name": "Python 3 (ipykernel)",
   "language": "python",
   "name": "python3"
  },
  "language_info": {
   "codemirror_mode": {
    "name": "ipython",
    "version": 3
   },
   "file_extension": ".py",
   "mimetype": "text/x-python",
   "name": "python",
   "nbconvert_exporter": "python",
   "pygments_lexer": "ipython3",
   "version": "3.9.15"
  }
 },
 "nbformat": 4,
 "nbformat_minor": 5
}
